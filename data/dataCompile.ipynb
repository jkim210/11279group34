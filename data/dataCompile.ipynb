{
  "nbformat": 4,
  "nbformat_minor": 0,
  "metadata": {
    "colab": {
      "name": "dataCompile.ipynb",
      "provenance": []
    },
    "kernelspec": {
      "name": "python3",
      "display_name": "Python 3"
    },
    "language_info": {
      "name": "python"
    }
  },
  "cells": [
    {
      "cell_type": "markdown",
      "metadata": {
        "id": "MKGSWnNHO1up"
      },
      "source": [
        "### Creating dataframe with nearest centroid data\n"
      ]
    },
    {
      "cell_type": "markdown",
      "metadata": {
        "id": "GwK8UTAHS0GQ"
      },
      "source": [
        "Installing needed packages and moving to folder with files"
      ]
    },
    {
      "cell_type": "code",
      "metadata": {
        "id": "tFVtPIIjRs3y",
        "colab": {
          "base_uri": "https://localhost:8080/"
        },
        "outputId": "f4794171-c7de-4367-e35a-2002d37ff3ec"
      },
      "source": [
        "!pip install geopandas\n",
        "%cd /content/drive/MyDrive/11279group34/"
      ],
      "execution_count": null,
      "outputs": [
        {
          "output_type": "stream",
          "name": "stdout",
          "text": [
            "Requirement already satisfied: geopandas in /usr/local/lib/python3.7/dist-packages (0.10.2)\n",
            "Requirement already satisfied: shapely>=1.6 in /usr/local/lib/python3.7/dist-packages (from geopandas) (1.8.0)\n",
            "Requirement already satisfied: pyproj>=2.2.0 in /usr/local/lib/python3.7/dist-packages (from geopandas) (3.2.1)\n",
            "Requirement already satisfied: fiona>=1.8 in /usr/local/lib/python3.7/dist-packages (from geopandas) (1.8.20)\n",
            "Requirement already satisfied: pandas>=0.25.0 in /usr/local/lib/python3.7/dist-packages (from geopandas) (1.1.5)\n",
            "Requirement already satisfied: certifi in /usr/local/lib/python3.7/dist-packages (from fiona>=1.8->geopandas) (2021.10.8)\n",
            "Requirement already satisfied: munch in /usr/local/lib/python3.7/dist-packages (from fiona>=1.8->geopandas) (2.5.0)\n",
            "Requirement already satisfied: attrs>=17 in /usr/local/lib/python3.7/dist-packages (from fiona>=1.8->geopandas) (21.2.0)\n",
            "Requirement already satisfied: setuptools in /usr/local/lib/python3.7/dist-packages (from fiona>=1.8->geopandas) (57.4.0)\n",
            "Requirement already satisfied: cligj>=0.5 in /usr/local/lib/python3.7/dist-packages (from fiona>=1.8->geopandas) (0.7.2)\n",
            "Requirement already satisfied: click-plugins>=1.0 in /usr/local/lib/python3.7/dist-packages (from fiona>=1.8->geopandas) (1.1.1)\n",
            "Requirement already satisfied: six>=1.7 in /usr/local/lib/python3.7/dist-packages (from fiona>=1.8->geopandas) (1.15.0)\n",
            "Requirement already satisfied: click>=4.0 in /usr/local/lib/python3.7/dist-packages (from fiona>=1.8->geopandas) (7.1.2)\n",
            "Requirement already satisfied: numpy>=1.15.4 in /usr/local/lib/python3.7/dist-packages (from pandas>=0.25.0->geopandas) (1.19.5)\n",
            "Requirement already satisfied: pytz>=2017.2 in /usr/local/lib/python3.7/dist-packages (from pandas>=0.25.0->geopandas) (2018.9)\n",
            "Requirement already satisfied: python-dateutil>=2.7.3 in /usr/local/lib/python3.7/dist-packages (from pandas>=0.25.0->geopandas) (2.8.2)\n",
            "/content/drive/MyDrive/11279group34\n"
          ]
        }
      ]
    },
    {
      "cell_type": "code",
      "metadata": {
        "colab": {
          "base_uri": "https://localhost:8080/"
        },
        "id": "wu97__K4R7Gl",
        "outputId": "00c331b0-da41-4535-dc39-e0ced59ea5c2"
      },
      "source": [
        "!pwd"
      ],
      "execution_count": null,
      "outputs": [
        {
          "output_type": "stream",
          "name": "stdout",
          "text": [
            "/content/drive/My Drive/11279group34\n",
            "centroidPoints.geojson\tlanduseLDI_centroids_nearestID_dist.geojson\n",
            "data\t\t\tREADME.md\n",
            "demo\t\t\ttests\n",
            "FloridaFlow\t\twater_centroidPoints.geojson\n"
          ]
        }
      ]
    },
    {
      "cell_type": "code",
      "metadata": {
        "id": "rbeahx3gQ2bV"
      },
      "source": [
        "import geopandas\n",
        "import pandas as pd\n",
        "import numpy as np\n",
        "\n",
        "from scipy.spatial import cKDTree\n",
        "from shapely.geometry import Point"
      ],
      "execution_count": null,
      "outputs": []
    },
    {
      "cell_type": "markdown",
      "metadata": {
        "id": "t8f2fnD9S7UM"
      },
      "source": [
        "Reading in landuse intensity geojson file <- has polygon shapes and such"
      ]
    },
    {
      "cell_type": "code",
      "metadata": {
        "id": "8DRrndw4Rp5H"
      },
      "source": [
        "gdf = geopandas.read_file(\"data/landscapeDevelopmentIndex/Current_Landuse_-_Landscape_Development_Intensity_(LDI).geojson\")"
      ],
      "execution_count": null,
      "outputs": []
    },
    {
      "cell_type": "code",
      "metadata": {
        "colab": {
          "base_uri": "https://localhost:8080/"
        },
        "id": "JirW3BpfdilK",
        "outputId": "d3341a9f-95a5-475b-89c7-a14b8cc1835e"
      },
      "source": [
        "gdf.crs"
      ],
      "execution_count": null,
      "outputs": [
        {
          "output_type": "execute_result",
          "data": {
            "text/plain": [
              "<Geographic 2D CRS: EPSG:4326>\n",
              "Name: WGS 84\n",
              "Axis Info [ellipsoidal]:\n",
              "- Lat[north]: Geodetic latitude (degree)\n",
              "- Lon[east]: Geodetic longitude (degree)\n",
              "Area of Use:\n",
              "- name: World.\n",
              "- bounds: (-180.0, -90.0, 180.0, 90.0)\n",
              "Datum: World Geodetic System 1984 ensemble\n",
              "- Ellipsoid: WGS 84\n",
              "- Prime Meridian: Greenwich"
            ]
          },
          "metadata": {},
          "execution_count": 6
        }
      ]
    },
    {
      "cell_type": "code",
      "metadata": {
        "colab": {
          "base_uri": "https://localhost:8080/",
          "height": 1000
        },
        "id": "GHM_Uk3vMuhb",
        "outputId": "db17333a-a589-4f96-a179-07f9379535f3"
      },
      "source": [
        "gdf"
      ],
      "execution_count": null,
      "outputs": [
        {
          "output_type": "execute_result",
          "data": {
            "text/html": [
              "<div>\n",
              "<style scoped>\n",
              "    .dataframe tbody tr th:only-of-type {\n",
              "        vertical-align: middle;\n",
              "    }\n",
              "\n",
              "    .dataframe tbody tr th {\n",
              "        vertical-align: top;\n",
              "    }\n",
              "\n",
              "    .dataframe thead th {\n",
              "        text-align: right;\n",
              "    }\n",
              "</style>\n",
              "<table border=\"1\" class=\"dataframe\">\n",
              "  <thead>\n",
              "    <tr style=\"text-align: right;\">\n",
              "      <th></th>\n",
              "      <th>OBJECTID</th>\n",
              "      <th>LEVEL3_VALUE</th>\n",
              "      <th>LDI</th>\n",
              "      <th>LSI</th>\n",
              "      <th>WMD_DISTRICT</th>\n",
              "      <th>LANDUSE_YEAR</th>\n",
              "      <th>DESCRIPTION</th>\n",
              "      <th>SHAPEAREA</th>\n",
              "      <th>SHAPELEN</th>\n",
              "      <th>geometry</th>\n",
              "      <th>centroids</th>\n",
              "    </tr>\n",
              "  </thead>\n",
              "  <tbody>\n",
              "    <tr>\n",
              "      <th>0</th>\n",
              "      <td>1</td>\n",
              "      <td>1100</td>\n",
              "      <td>6.8</td>\n",
              "      <td>3.6</td>\n",
              "      <td>SJR</td>\n",
              "      <td>2013-2016</td>\n",
              "      <td>1100: Low Density, &lt;2 dwelling units/acre</td>\n",
              "      <td>202486.422768</td>\n",
              "      <td>2768.478185</td>\n",
              "      <td>POLYGON ((-80.39430 27.58675, -80.39430 27.586...</td>\n",
              "      <td>POINT (-8949496.651 3176698.682)</td>\n",
              "    </tr>\n",
              "    <tr>\n",
              "      <th>1</th>\n",
              "      <td>2</td>\n",
              "      <td>1100</td>\n",
              "      <td>6.8</td>\n",
              "      <td>3.6</td>\n",
              "      <td>SJR</td>\n",
              "      <td>2013-2016</td>\n",
              "      <td>1100: Low Density, &lt;2 dwelling units/acre</td>\n",
              "      <td>4144.953037</td>\n",
              "      <td>287.746301</td>\n",
              "      <td>POLYGON ((-80.39067 27.58704, -80.39066 27.587...</td>\n",
              "      <td>POINT (-8949106.299 3177249.232)</td>\n",
              "    </tr>\n",
              "    <tr>\n",
              "      <th>2</th>\n",
              "      <td>3</td>\n",
              "      <td>1100</td>\n",
              "      <td>6.8</td>\n",
              "      <td>3.6</td>\n",
              "      <td>SJR</td>\n",
              "      <td>2013-2016</td>\n",
              "      <td>1100: Low Density, &lt;2 dwelling units/acre</td>\n",
              "      <td>9408.253317</td>\n",
              "      <td>471.548879</td>\n",
              "      <td>POLYGON ((-80.42704 27.58723, -80.42662 27.587...</td>\n",
              "      <td>POINT (-8953091.749 3177318.692)</td>\n",
              "    </tr>\n",
              "    <tr>\n",
              "      <th>3</th>\n",
              "      <td>4</td>\n",
              "      <td>1100</td>\n",
              "      <td>6.8</td>\n",
              "      <td>3.6</td>\n",
              "      <td>SJR</td>\n",
              "      <td>2013-2016</td>\n",
              "      <td>1100: Low Density, &lt;2 dwelling units/acre</td>\n",
              "      <td>14729.055061</td>\n",
              "      <td>639.330146</td>\n",
              "      <td>POLYGON ((-80.37991 27.58839, -80.37987 27.588...</td>\n",
              "      <td>POINT (-8947966.907 3177347.275)</td>\n",
              "    </tr>\n",
              "    <tr>\n",
              "      <th>4</th>\n",
              "      <td>5</td>\n",
              "      <td>1100</td>\n",
              "      <td>6.8</td>\n",
              "      <td>3.6</td>\n",
              "      <td>SJR</td>\n",
              "      <td>2013-2016</td>\n",
              "      <td>1100: Low Density, &lt;2 dwelling units/acre</td>\n",
              "      <td>81255.766776</td>\n",
              "      <td>1202.345663</td>\n",
              "      <td>POLYGON ((-80.39454 27.58873, -80.39374 27.588...</td>\n",
              "      <td>POINT (-8949616.034 3177551.032)</td>\n",
              "    </tr>\n",
              "    <tr>\n",
              "      <th>...</th>\n",
              "      <td>...</td>\n",
              "      <td>...</td>\n",
              "      <td>...</td>\n",
              "      <td>...</td>\n",
              "      <td>...</td>\n",
              "      <td>...</td>\n",
              "      <td>...</td>\n",
              "      <td>...</td>\n",
              "      <td>...</td>\n",
              "      <td>...</td>\n",
              "      <td>...</td>\n",
              "    </tr>\n",
              "    <tr>\n",
              "      <th>1338031</th>\n",
              "      <td>1338032</td>\n",
              "      <td>6460</td>\n",
              "      <td>1.0</td>\n",
              "      <td>10.0</td>\n",
              "      <td>SJR</td>\n",
              "      <td>2013-2016</td>\n",
              "      <td>6460: Mixed Scrub-shrub Wetland</td>\n",
              "      <td>8436.737078</td>\n",
              "      <td>471.816539</td>\n",
              "      <td>POLYGON ((-82.02071 30.72787, -82.02065 30.727...</td>\n",
              "      <td>POINT (-9130491.112 3575723.293)</td>\n",
              "    </tr>\n",
              "    <tr>\n",
              "      <th>1338032</th>\n",
              "      <td>1338033</td>\n",
              "      <td>6460</td>\n",
              "      <td>1.0</td>\n",
              "      <td>10.0</td>\n",
              "      <td>SJR</td>\n",
              "      <td>2013-2016</td>\n",
              "      <td>6460: Mixed Scrub-shrub Wetland</td>\n",
              "      <td>4395.450443</td>\n",
              "      <td>246.783645</td>\n",
              "      <td>POLYGON ((-81.70438 30.72415, -81.70432 30.724...</td>\n",
              "      <td>POINT (-9095303.402 3575202.887)</td>\n",
              "    </tr>\n",
              "    <tr>\n",
              "      <th>1338033</th>\n",
              "      <td>1338034</td>\n",
              "      <td>6460</td>\n",
              "      <td>1.0</td>\n",
              "      <td>10.0</td>\n",
              "      <td>SJR</td>\n",
              "      <td>2013-2016</td>\n",
              "      <td>6460: Mixed Scrub-shrub Wetland</td>\n",
              "      <td>303663.108819</td>\n",
              "      <td>6475.501932</td>\n",
              "      <td>POLYGON ((-81.81171 30.72584, -81.81178 30.726...</td>\n",
              "      <td>POINT (-9106407.185 3574920.918)</td>\n",
              "    </tr>\n",
              "    <tr>\n",
              "      <th>1338034</th>\n",
              "      <td>1338035</td>\n",
              "      <td>6460</td>\n",
              "      <td>1.0</td>\n",
              "      <td>10.0</td>\n",
              "      <td>SJR</td>\n",
              "      <td>2013-2016</td>\n",
              "      <td>6460: Mixed Scrub-shrub Wetland</td>\n",
              "      <td>3600.924167</td>\n",
              "      <td>238.813225</td>\n",
              "      <td>POLYGON ((-81.73858 30.72505, -81.73852 30.725...</td>\n",
              "      <td>POINT (-9099131.919 3575314.852)</td>\n",
              "    </tr>\n",
              "    <tr>\n",
              "      <th>1338035</th>\n",
              "      <td>1338036</td>\n",
              "      <td>6460</td>\n",
              "      <td>1.0</td>\n",
              "      <td>10.0</td>\n",
              "      <td>SJR</td>\n",
              "      <td>2013-2016</td>\n",
              "      <td>6460: Mixed Scrub-shrub Wetland</td>\n",
              "      <td>11137.563466</td>\n",
              "      <td>485.607581</td>\n",
              "      <td>POLYGON ((-81.66880 30.72411, -81.66845 30.724...</td>\n",
              "      <td>POINT (-9091317.012 3575193.348)</td>\n",
              "    </tr>\n",
              "  </tbody>\n",
              "</table>\n",
              "<p>1338036 rows × 11 columns</p>\n",
              "</div>"
            ],
            "text/plain": [
              "         OBJECTID  ...                         centroids\n",
              "0               1  ...  POINT (-8949496.651 3176698.682)\n",
              "1               2  ...  POINT (-8949106.299 3177249.232)\n",
              "2               3  ...  POINT (-8953091.749 3177318.692)\n",
              "3               4  ...  POINT (-8947966.907 3177347.275)\n",
              "4               5  ...  POINT (-8949616.034 3177551.032)\n",
              "...           ...  ...                               ...\n",
              "1338031   1338032  ...  POINT (-9130491.112 3575723.293)\n",
              "1338032   1338033  ...  POINT (-9095303.402 3575202.887)\n",
              "1338033   1338034  ...  POINT (-9106407.185 3574920.918)\n",
              "1338034   1338035  ...  POINT (-9099131.919 3575314.852)\n",
              "1338035   1338036  ...  POINT (-9091317.012 3575193.348)\n",
              "\n",
              "[1338036 rows x 11 columns]"
            ]
          },
          "metadata": {},
          "execution_count": 16
        }
      ]
    },
    {
      "cell_type": "code",
      "metadata": {
        "id": "HaK7e_A-dxYI"
      },
      "source": [
        "gdf.to_crs(epsg=3395, inplace=True) # Find proper coordonate refrence system for datasets\n",
        "gdf['centroids'] = gdf.centroid\n",
        "gdf.to_crs(epsg=4326, inplace=True) # Return to previous coordonate system"
      ],
      "execution_count": null,
      "outputs": []
    },
    {
      "cell_type": "code",
      "metadata": {
        "id": "Y8Gm-6pmSbvo"
      },
      "source": [
        "waterIds = [5120,5100,5110,5200,5300,5250,5400,5430,5600,6100,5710,5420,5410,\n",
        "                                            6120,6130,6150,6149,6170,6159,6179,6210,6180,6189,6182,6220,6216,\n",
        "                                            6250,6259,6410,6400,6420,6430,6411,6440,6460,6469,6510,6520]\n",
        "water = gdf.loc[gdf[\"LEVEL3_VALUE\"].isin(waterIds)]"
      ],
      "execution_count": null,
      "outputs": []
    },
    {
      "cell_type": "markdown",
      "metadata": {
        "id": "6xO8lyoQdYP7"
      },
      "source": [
        "Create file with just centroid of non-water objects"
      ]
    },
    {
      "cell_type": "code",
      "metadata": {
        "id": "MYu1CPp3dKxx",
        "colab": {
          "base_uri": "https://localhost:8080/",
          "height": 507
        },
        "outputId": "e6ab581d-b86d-4ef1-92ea-c5c704c95c9e"
      },
      "source": [
        "centroidsOnly = geopandas.GeoDataFrame(gdf['OBJECTID'], geometry=gdf.centroids)\n",
        "#centroidsOnly.to_file(\"centroidPoints.geojson\", driver=\"GeoJSON\")\n",
        "\n",
        "centroidsOnly_water = geopandas.GeoDataFrame(water['OBJECTID'], geometry=water.centroids)\n",
        "#centroidsOnly.to_file(\"water_centroidPoints.geojson\", driver=\"GeoJSON\")\n",
        "centroidsOnly_water"
      ],
      "execution_count": null,
      "outputs": [
        {
          "output_type": "stream",
          "name": "stderr",
          "text": [
            "/usr/local/lib/python3.7/dist-packages/ipykernel_launcher.py:1: FutureWarning: CRS mismatch between CRS of the passed geometries and 'crs'. Use 'GeoDataFrame.set_crs(crs, allow_override=True)' to overwrite CRS or 'GeoDataFrame.to_crs(crs)' to reproject geometries. CRS mismatch will raise an error in the future versions of GeoPandas.\n",
            "  \"\"\"Entry point for launching an IPython kernel.\n",
            "/usr/local/lib/python3.7/dist-packages/ipykernel_launcher.py:4: FutureWarning: CRS mismatch between CRS of the passed geometries and 'crs'. Use 'GeoDataFrame.set_crs(crs, allow_override=True)' to overwrite CRS or 'GeoDataFrame.to_crs(crs)' to reproject geometries. CRS mismatch will raise an error in the future versions of GeoPandas.\n",
            "  after removing the cwd from sys.path.\n"
          ]
        },
        {
          "output_type": "execute_result",
          "data": {
            "text/html": [
              "<div>\n",
              "<style scoped>\n",
              "    .dataframe tbody tr th:only-of-type {\n",
              "        vertical-align: middle;\n",
              "    }\n",
              "\n",
              "    .dataframe tbody tr th {\n",
              "        vertical-align: top;\n",
              "    }\n",
              "\n",
              "    .dataframe thead th {\n",
              "        text-align: right;\n",
              "    }\n",
              "</style>\n",
              "<table border=\"1\" class=\"dataframe\">\n",
              "  <thead>\n",
              "    <tr style=\"text-align: right;\">\n",
              "      <th></th>\n",
              "      <th>OBJECTID</th>\n",
              "      <th>geometry</th>\n",
              "    </tr>\n",
              "  </thead>\n",
              "  <tbody>\n",
              "    <tr>\n",
              "      <th>593280</th>\n",
              "      <td>593281</td>\n",
              "      <td>POINT (-8915677.169 3096502.797)</td>\n",
              "    </tr>\n",
              "    <tr>\n",
              "      <th>593281</th>\n",
              "      <td>593282</td>\n",
              "      <td>POINT (-8927142.194 3091286.523)</td>\n",
              "    </tr>\n",
              "    <tr>\n",
              "      <th>593282</th>\n",
              "      <td>593283</td>\n",
              "      <td>POINT (-8917070.687 3097065.751)</td>\n",
              "    </tr>\n",
              "    <tr>\n",
              "      <th>593283</th>\n",
              "      <td>593284</td>\n",
              "      <td>POINT (-8916881.305 3097069.277)</td>\n",
              "    </tr>\n",
              "    <tr>\n",
              "      <th>593284</th>\n",
              "      <td>593285</td>\n",
              "      <td>POINT (-8916623.312 3097046.965)</td>\n",
              "    </tr>\n",
              "    <tr>\n",
              "      <th>...</th>\n",
              "      <td>...</td>\n",
              "      <td>...</td>\n",
              "    </tr>\n",
              "    <tr>\n",
              "      <th>1338031</th>\n",
              "      <td>1338032</td>\n",
              "      <td>POINT (-9130491.112 3575723.293)</td>\n",
              "    </tr>\n",
              "    <tr>\n",
              "      <th>1338032</th>\n",
              "      <td>1338033</td>\n",
              "      <td>POINT (-9095303.402 3575202.887)</td>\n",
              "    </tr>\n",
              "    <tr>\n",
              "      <th>1338033</th>\n",
              "      <td>1338034</td>\n",
              "      <td>POINT (-9106407.185 3574920.918)</td>\n",
              "    </tr>\n",
              "    <tr>\n",
              "      <th>1338034</th>\n",
              "      <td>1338035</td>\n",
              "      <td>POINT (-9099131.919 3575314.852)</td>\n",
              "    </tr>\n",
              "    <tr>\n",
              "      <th>1338035</th>\n",
              "      <td>1338036</td>\n",
              "      <td>POINT (-9091317.012 3575193.348)</td>\n",
              "    </tr>\n",
              "  </tbody>\n",
              "</table>\n",
              "<p>587419 rows × 2 columns</p>\n",
              "</div>"
            ],
            "text/plain": [
              "         OBJECTID                          geometry\n",
              "593280     593281  POINT (-8915677.169 3096502.797)\n",
              "593281     593282  POINT (-8927142.194 3091286.523)\n",
              "593282     593283  POINT (-8917070.687 3097065.751)\n",
              "593283     593284  POINT (-8916881.305 3097069.277)\n",
              "593284     593285  POINT (-8916623.312 3097046.965)\n",
              "...           ...                               ...\n",
              "1338031   1338032  POINT (-9130491.112 3575723.293)\n",
              "1338032   1338033  POINT (-9095303.402 3575202.887)\n",
              "1338033   1338034  POINT (-9106407.185 3574920.918)\n",
              "1338034   1338035  POINT (-9099131.919 3575314.852)\n",
              "1338035   1338036  POINT (-9091317.012 3575193.348)\n",
              "\n",
              "[587419 rows x 2 columns]"
            ]
          },
          "metadata": {},
          "execution_count": 10
        }
      ]
    },
    {
      "cell_type": "markdown",
      "metadata": {
        "id": "c-YLNsNOmHvA"
      },
      "source": [
        "Find nearest *water* centroid"
      ]
    },
    {
      "cell_type": "code",
      "metadata": {
        "id": "6Zt0DQb0P9DB"
      },
      "source": [
        "# Removing water entries from centroid list\n",
        "waterParcelIDS = set(water['OBJECTID'])\n",
        "centroidsNonWater = centroidsOnly[~centroidsOnly['OBJECTID'].isin(waterParcelIDS)]"
      ],
      "execution_count": null,
      "outputs": []
    },
    {
      "cell_type": "code",
      "metadata": {
        "id": "Oc0thfu4OQC6"
      },
      "source": [
        "#https://gis.stackexchange.com/questions/222315/finding-nearest-point-in-other-geodataframe-using-geopandas\n",
        "# Returns nearest neighbor in B from each point in A\n",
        "def ckdnearest(gdA, gdB):\n",
        "    # Converts geodataframe into np arrays\n",
        "    nA = np.array(list(gdA.geometry.apply(lambda x: (x.x, x.y))))\n",
        "    nB = np.array(list(gdB.geometry.apply(lambda x: (x.x, x.y))))\n",
        "\n",
        "    # Creates tree\n",
        "    btree = cKDTree(nB)\n",
        "    # Finding nearest neighbor\n",
        "    dist, idx = btree.query(nA, k=1) \n",
        "\n",
        "    # \n",
        "    gdB_nearest = gdB.iloc[idx].drop(columns=\"geometry\").reset_index(drop=True)\n",
        "    gdf = pd.concat(\n",
        "        [\n",
        "            gdA.reset_index(drop=True),\n",
        "            gdB_nearest,\n",
        "            pd.Series(dist, name='dist')\n",
        "        ], \n",
        "        axis=1)\n",
        "\n",
        "    return gdf\n",
        "\n",
        "nearestWaterIDs = ckdnearest(centroidsNonWater, centroidsOnly_water)"
      ],
      "execution_count": null,
      "outputs": []
    },
    {
      "cell_type": "code",
      "metadata": {
        "id": "cSHsWhFcOUNA",
        "colab": {
          "base_uri": "https://localhost:8080/",
          "height": 419
        },
        "outputId": "2c9c5941-6711-4e3d-8fad-226c8f91df4e"
      },
      "source": [
        "nearestWaterIDs.set_axis(['OBJECTID',\n",
        "                          'geometry',\n",
        "                          'nearestID',\n",
        "                          'dist'], \n",
        "                         axis=1, inplace=True)\n",
        "nearestWaterIDs"
      ],
      "execution_count": null,
      "outputs": [
        {
          "output_type": "execute_result",
          "data": {
            "text/html": [
              "<div>\n",
              "<style scoped>\n",
              "    .dataframe tbody tr th:only-of-type {\n",
              "        vertical-align: middle;\n",
              "    }\n",
              "\n",
              "    .dataframe tbody tr th {\n",
              "        vertical-align: top;\n",
              "    }\n",
              "\n",
              "    .dataframe thead th {\n",
              "        text-align: right;\n",
              "    }\n",
              "</style>\n",
              "<table border=\"1\" class=\"dataframe\">\n",
              "  <thead>\n",
              "    <tr style=\"text-align: right;\">\n",
              "      <th></th>\n",
              "      <th>OBJECTID</th>\n",
              "      <th>geometry</th>\n",
              "      <th>nearestID</th>\n",
              "      <th>dist</th>\n",
              "    </tr>\n",
              "  </thead>\n",
              "  <tbody>\n",
              "    <tr>\n",
              "      <th>0</th>\n",
              "      <td>1</td>\n",
              "      <td>POINT (-8949496.651 3176698.682)</td>\n",
              "      <td>1013765</td>\n",
              "      <td>615.418975</td>\n",
              "    </tr>\n",
              "    <tr>\n",
              "      <th>1</th>\n",
              "      <td>2</td>\n",
              "      <td>POINT (-8949106.299 3177249.232)</td>\n",
              "      <td>597436</td>\n",
              "      <td>327.743115</td>\n",
              "    </tr>\n",
              "    <tr>\n",
              "      <th>2</th>\n",
              "      <td>3</td>\n",
              "      <td>POINT (-8953091.749 3177318.692)</td>\n",
              "      <td>646647</td>\n",
              "      <td>370.776985</td>\n",
              "    </tr>\n",
              "    <tr>\n",
              "      <th>3</th>\n",
              "      <td>4</td>\n",
              "      <td>POINT (-8947966.907 3177347.275)</td>\n",
              "      <td>1258032</td>\n",
              "      <td>117.512084</td>\n",
              "    </tr>\n",
              "    <tr>\n",
              "      <th>4</th>\n",
              "      <td>5</td>\n",
              "      <td>POINT (-8949616.034 3177551.032)</td>\n",
              "      <td>1019526</td>\n",
              "      <td>481.386216</td>\n",
              "    </tr>\n",
              "    <tr>\n",
              "      <th>...</th>\n",
              "      <td>...</td>\n",
              "      <td>...</td>\n",
              "      <td>...</td>\n",
              "      <td>...</td>\n",
              "    </tr>\n",
              "    <tr>\n",
              "      <th>750612</th>\n",
              "      <td>1322189</td>\n",
              "      <td>POINT (-9045381.230 3313681.126)</td>\n",
              "      <td>772762</td>\n",
              "      <td>306.896621</td>\n",
              "    </tr>\n",
              "    <tr>\n",
              "      <th>750613</th>\n",
              "      <td>1322190</td>\n",
              "      <td>POINT (-9025984.382 3313083.411)</td>\n",
              "      <td>848482</td>\n",
              "      <td>309.717701</td>\n",
              "    </tr>\n",
              "    <tr>\n",
              "      <th>750614</th>\n",
              "      <td>1322191</td>\n",
              "      <td>POINT (-9044224.391 3314337.698)</td>\n",
              "      <td>1017530</td>\n",
              "      <td>200.662218</td>\n",
              "    </tr>\n",
              "    <tr>\n",
              "      <th>750615</th>\n",
              "      <td>1322192</td>\n",
              "      <td>POINT (-9004702.932 3313214.159)</td>\n",
              "      <td>658412</td>\n",
              "      <td>187.822036</td>\n",
              "    </tr>\n",
              "    <tr>\n",
              "      <th>750616</th>\n",
              "      <td>1322193</td>\n",
              "      <td>POINT (-9045850.913 3314325.079)</td>\n",
              "      <td>658428</td>\n",
              "      <td>124.877652</td>\n",
              "    </tr>\n",
              "  </tbody>\n",
              "</table>\n",
              "<p>750617 rows × 4 columns</p>\n",
              "</div>"
            ],
            "text/plain": [
              "        OBJECTID                          geometry  nearestID        dist\n",
              "0              1  POINT (-8949496.651 3176698.682)    1013765  615.418975\n",
              "1              2  POINT (-8949106.299 3177249.232)     597436  327.743115\n",
              "2              3  POINT (-8953091.749 3177318.692)     646647  370.776985\n",
              "3              4  POINT (-8947966.907 3177347.275)    1258032  117.512084\n",
              "4              5  POINT (-8949616.034 3177551.032)    1019526  481.386216\n",
              "...          ...                               ...        ...         ...\n",
              "750612   1322189  POINT (-9045381.230 3313681.126)     772762  306.896621\n",
              "750613   1322190  POINT (-9025984.382 3313083.411)     848482  309.717701\n",
              "750614   1322191  POINT (-9044224.391 3314337.698)    1017530  200.662218\n",
              "750615   1322192  POINT (-9004702.932 3313214.159)     658412  187.822036\n",
              "750616   1322193  POINT (-9045850.913 3314325.079)     658428  124.877652\n",
              "\n",
              "[750617 rows x 4 columns]"
            ]
          },
          "metadata": {},
          "execution_count": 13
        }
      ]
    },
    {
      "cell_type": "code",
      "metadata": {
        "colab": {
          "base_uri": "https://localhost:8080/",
          "height": 1000
        },
        "id": "w8FXdcP_RdEr",
        "outputId": "05b1150d-08f7-4e53-b78a-d99177506365"
      },
      "source": [
        "# Generates with NaN as nearestID and dist for water parcels\n",
        "gdfWithDists = gdf.join(nearestWaterIDs.drop(columns='geometry').set_index('OBJECTID'), on='OBJECTID')\n",
        "gdfWithDists.fillna(value=0, inplace=True)\n",
        "gdfWithDists"
      ],
      "execution_count": null,
      "outputs": [
        {
          "output_type": "execute_result",
          "data": {
            "text/html": [
              "<div>\n",
              "<style scoped>\n",
              "    .dataframe tbody tr th:only-of-type {\n",
              "        vertical-align: middle;\n",
              "    }\n",
              "\n",
              "    .dataframe tbody tr th {\n",
              "        vertical-align: top;\n",
              "    }\n",
              "\n",
              "    .dataframe thead th {\n",
              "        text-align: right;\n",
              "    }\n",
              "</style>\n",
              "<table border=\"1\" class=\"dataframe\">\n",
              "  <thead>\n",
              "    <tr style=\"text-align: right;\">\n",
              "      <th></th>\n",
              "      <th>OBJECTID</th>\n",
              "      <th>LEVEL3_VALUE</th>\n",
              "      <th>LDI</th>\n",
              "      <th>LSI</th>\n",
              "      <th>WMD_DISTRICT</th>\n",
              "      <th>LANDUSE_YEAR</th>\n",
              "      <th>DESCRIPTION</th>\n",
              "      <th>SHAPEAREA</th>\n",
              "      <th>SHAPELEN</th>\n",
              "      <th>geometry</th>\n",
              "      <th>centroids</th>\n",
              "      <th>nearestID</th>\n",
              "      <th>dist</th>\n",
              "    </tr>\n",
              "  </thead>\n",
              "  <tbody>\n",
              "    <tr>\n",
              "      <th>0</th>\n",
              "      <td>1</td>\n",
              "      <td>1100</td>\n",
              "      <td>6.8</td>\n",
              "      <td>3.6</td>\n",
              "      <td>SJR</td>\n",
              "      <td>2013-2016</td>\n",
              "      <td>1100: Low Density, &lt;2 dwelling units/acre</td>\n",
              "      <td>202486.422768</td>\n",
              "      <td>2768.478185</td>\n",
              "      <td>POLYGON ((-80.39430 27.58675, -80.39430 27.586...</td>\n",
              "      <td>POINT (-8949496.651 3176698.682)</td>\n",
              "      <td>1013765.0</td>\n",
              "      <td>615.418975</td>\n",
              "    </tr>\n",
              "    <tr>\n",
              "      <th>1</th>\n",
              "      <td>2</td>\n",
              "      <td>1100</td>\n",
              "      <td>6.8</td>\n",
              "      <td>3.6</td>\n",
              "      <td>SJR</td>\n",
              "      <td>2013-2016</td>\n",
              "      <td>1100: Low Density, &lt;2 dwelling units/acre</td>\n",
              "      <td>4144.953037</td>\n",
              "      <td>287.746301</td>\n",
              "      <td>POLYGON ((-80.39067 27.58704, -80.39066 27.587...</td>\n",
              "      <td>POINT (-8949106.299 3177249.232)</td>\n",
              "      <td>597436.0</td>\n",
              "      <td>327.743115</td>\n",
              "    </tr>\n",
              "    <tr>\n",
              "      <th>2</th>\n",
              "      <td>3</td>\n",
              "      <td>1100</td>\n",
              "      <td>6.8</td>\n",
              "      <td>3.6</td>\n",
              "      <td>SJR</td>\n",
              "      <td>2013-2016</td>\n",
              "      <td>1100: Low Density, &lt;2 dwelling units/acre</td>\n",
              "      <td>9408.253317</td>\n",
              "      <td>471.548879</td>\n",
              "      <td>POLYGON ((-80.42704 27.58723, -80.42662 27.587...</td>\n",
              "      <td>POINT (-8953091.749 3177318.692)</td>\n",
              "      <td>646647.0</td>\n",
              "      <td>370.776985</td>\n",
              "    </tr>\n",
              "    <tr>\n",
              "      <th>3</th>\n",
              "      <td>4</td>\n",
              "      <td>1100</td>\n",
              "      <td>6.8</td>\n",
              "      <td>3.6</td>\n",
              "      <td>SJR</td>\n",
              "      <td>2013-2016</td>\n",
              "      <td>1100: Low Density, &lt;2 dwelling units/acre</td>\n",
              "      <td>14729.055061</td>\n",
              "      <td>639.330146</td>\n",
              "      <td>POLYGON ((-80.37991 27.58839, -80.37987 27.588...</td>\n",
              "      <td>POINT (-8947966.907 3177347.275)</td>\n",
              "      <td>1258032.0</td>\n",
              "      <td>117.512084</td>\n",
              "    </tr>\n",
              "    <tr>\n",
              "      <th>4</th>\n",
              "      <td>5</td>\n",
              "      <td>1100</td>\n",
              "      <td>6.8</td>\n",
              "      <td>3.6</td>\n",
              "      <td>SJR</td>\n",
              "      <td>2013-2016</td>\n",
              "      <td>1100: Low Density, &lt;2 dwelling units/acre</td>\n",
              "      <td>81255.766776</td>\n",
              "      <td>1202.345663</td>\n",
              "      <td>POLYGON ((-80.39454 27.58873, -80.39374 27.588...</td>\n",
              "      <td>POINT (-8949616.034 3177551.032)</td>\n",
              "      <td>1019526.0</td>\n",
              "      <td>481.386216</td>\n",
              "    </tr>\n",
              "    <tr>\n",
              "      <th>...</th>\n",
              "      <td>...</td>\n",
              "      <td>...</td>\n",
              "      <td>...</td>\n",
              "      <td>...</td>\n",
              "      <td>...</td>\n",
              "      <td>...</td>\n",
              "      <td>...</td>\n",
              "      <td>...</td>\n",
              "      <td>...</td>\n",
              "      <td>...</td>\n",
              "      <td>...</td>\n",
              "      <td>...</td>\n",
              "      <td>...</td>\n",
              "    </tr>\n",
              "    <tr>\n",
              "      <th>1338031</th>\n",
              "      <td>1338032</td>\n",
              "      <td>6460</td>\n",
              "      <td>1.0</td>\n",
              "      <td>10.0</td>\n",
              "      <td>SJR</td>\n",
              "      <td>2013-2016</td>\n",
              "      <td>6460: Mixed Scrub-shrub Wetland</td>\n",
              "      <td>8436.737078</td>\n",
              "      <td>471.816539</td>\n",
              "      <td>POLYGON ((-82.02071 30.72787, -82.02065 30.727...</td>\n",
              "      <td>POINT (-9130491.112 3575723.293)</td>\n",
              "      <td>0.0</td>\n",
              "      <td>0.000000</td>\n",
              "    </tr>\n",
              "    <tr>\n",
              "      <th>1338032</th>\n",
              "      <td>1338033</td>\n",
              "      <td>6460</td>\n",
              "      <td>1.0</td>\n",
              "      <td>10.0</td>\n",
              "      <td>SJR</td>\n",
              "      <td>2013-2016</td>\n",
              "      <td>6460: Mixed Scrub-shrub Wetland</td>\n",
              "      <td>4395.450443</td>\n",
              "      <td>246.783645</td>\n",
              "      <td>POLYGON ((-81.70438 30.72415, -81.70432 30.724...</td>\n",
              "      <td>POINT (-9095303.402 3575202.887)</td>\n",
              "      <td>0.0</td>\n",
              "      <td>0.000000</td>\n",
              "    </tr>\n",
              "    <tr>\n",
              "      <th>1338033</th>\n",
              "      <td>1338034</td>\n",
              "      <td>6460</td>\n",
              "      <td>1.0</td>\n",
              "      <td>10.0</td>\n",
              "      <td>SJR</td>\n",
              "      <td>2013-2016</td>\n",
              "      <td>6460: Mixed Scrub-shrub Wetland</td>\n",
              "      <td>303663.108819</td>\n",
              "      <td>6475.501932</td>\n",
              "      <td>POLYGON ((-81.81171 30.72584, -81.81178 30.726...</td>\n",
              "      <td>POINT (-9106407.185 3574920.918)</td>\n",
              "      <td>0.0</td>\n",
              "      <td>0.000000</td>\n",
              "    </tr>\n",
              "    <tr>\n",
              "      <th>1338034</th>\n",
              "      <td>1338035</td>\n",
              "      <td>6460</td>\n",
              "      <td>1.0</td>\n",
              "      <td>10.0</td>\n",
              "      <td>SJR</td>\n",
              "      <td>2013-2016</td>\n",
              "      <td>6460: Mixed Scrub-shrub Wetland</td>\n",
              "      <td>3600.924167</td>\n",
              "      <td>238.813225</td>\n",
              "      <td>POLYGON ((-81.73858 30.72505, -81.73852 30.725...</td>\n",
              "      <td>POINT (-9099131.919 3575314.852)</td>\n",
              "      <td>0.0</td>\n",
              "      <td>0.000000</td>\n",
              "    </tr>\n",
              "    <tr>\n",
              "      <th>1338035</th>\n",
              "      <td>1338036</td>\n",
              "      <td>6460</td>\n",
              "      <td>1.0</td>\n",
              "      <td>10.0</td>\n",
              "      <td>SJR</td>\n",
              "      <td>2013-2016</td>\n",
              "      <td>6460: Mixed Scrub-shrub Wetland</td>\n",
              "      <td>11137.563466</td>\n",
              "      <td>485.607581</td>\n",
              "      <td>POLYGON ((-81.66880 30.72411, -81.66845 30.724...</td>\n",
              "      <td>POINT (-9091317.012 3575193.348)</td>\n",
              "      <td>0.0</td>\n",
              "      <td>0.000000</td>\n",
              "    </tr>\n",
              "  </tbody>\n",
              "</table>\n",
              "<p>1338036 rows × 13 columns</p>\n",
              "</div>"
            ],
            "text/plain": [
              "         OBJECTID  LEVEL3_VALUE  ...  nearestID        dist\n",
              "0               1          1100  ...  1013765.0  615.418975\n",
              "1               2          1100  ...   597436.0  327.743115\n",
              "2               3          1100  ...   646647.0  370.776985\n",
              "3               4          1100  ...  1258032.0  117.512084\n",
              "4               5          1100  ...  1019526.0  481.386216\n",
              "...           ...           ...  ...        ...         ...\n",
              "1338031   1338032          6460  ...        0.0    0.000000\n",
              "1338032   1338033          6460  ...        0.0    0.000000\n",
              "1338033   1338034          6460  ...        0.0    0.000000\n",
              "1338034   1338035          6460  ...        0.0    0.000000\n",
              "1338035   1338036          6460  ...        0.0    0.000000\n",
              "\n",
              "[1338036 rows x 13 columns]"
            ]
          },
          "metadata": {},
          "execution_count": 17
        }
      ]
    },
    {
      "cell_type": "code",
      "metadata": {
        "id": "PbfRLcW7R-6j"
      },
      "source": [
        "gdfWithDists.drop(columns='centroids').to_file(\"landuseLDI_centroids_nearestID_dist.geojson\", driver=\"GeoJSON\")"
      ],
      "execution_count": null,
      "outputs": []
    },
    {
      "cell_type": "code",
      "metadata": {
        "colab": {
          "base_uri": "https://localhost:8080/"
        },
        "id": "oPzm9dGoh98Z",
        "outputId": "635b4db1-8790-4734-cf61-ddabece5134f"
      },
      "source": [
        "%ls"
      ],
      "execution_count": null,
      "outputs": [
        {
          "output_type": "stream",
          "name": "stdout",
          "text": [
            "centroidPoints.geojson  landuseLDI_centroids_nearestID_dist.geojson\n",
            "\u001b[0m\u001b[01;34mdata\u001b[0m/                   README.md\n",
            "\u001b[01;34mdemo\u001b[0m/                   \u001b[01;34mtests\u001b[0m/\n",
            "\u001b[01;34mFloridaFlow\u001b[0m/            water_centroidPoints.geojson\n"
          ]
        }
      ]
    }
  ]
}